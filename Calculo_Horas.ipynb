{
 "cells": [
  {
   "cell_type": "markdown",
   "source": [
    "# Calculo de horas"
   ],
   "metadata": {
    "collapsed": false,
    "pycharm": {
     "name": "#%% md\n"
    }
   }
  },
  {
   "cell_type": "code",
   "execution_count": 103,
   "outputs": [
    {
     "name": "stdout",
     "output_type": "stream",
     "text": [
      "98:30\n"
     ]
    }
   ],
   "source": [
    "import datetime\n",
    "\n",
    "y = []\n",
    "while True:\n",
    "    loop = input('Quer adicionar mais horas? S/n').lower()\n",
    "\n",
    "    if loop == 's':\n",
    "        inicial = datetime.datetime(int(input('ano inicial: ')),\n",
    "                                    int(input('mês inicial: ')),\n",
    "                                    int(input('dia inicial: ')),\n",
    "                                    int(input('Hora inicial: ')),\n",
    "                                    int(input('Minuto inicial: ')))\n",
    "\n",
    "        final = datetime.datetime(int(input('ano final: ')),\n",
    "                                  int(input('mês final: ')),\n",
    "                                  int(input('dia final: ')),\n",
    "                                  int(input('Hora final: ')),\n",
    "                                  int(input('Minuto final: ')))\n",
    "        x = (final - inicial)\n",
    "        dias = (x.days * 24 * 60)\n",
    "        tempo = x.seconds // 60\n",
    "        soma = (dias + tempo) / 60\n",
    "        y.append(soma)\n",
    "    else:\n",
    "        total = sum(y)\n",
    "        total_min = total * 60\n",
    "        hora = int(total_min // 60)\n",
    "        min = int((total % hora) * 60)\n",
    "\n",
    "        print(f'{hora}:{min} hrs')\n",
    "\n",
    "        break\n"
   ],
   "metadata": {
    "collapsed": false,
    "pycharm": {
     "name": "#%%\n"
    }
   }
  },
  {
   "cell_type": "markdown",
   "source": [
    "# Calculo Barricas"
   ],
   "metadata": {
    "collapsed": false,
    "pycharm": {
     "name": "#%% md\n"
    }
   }
  },
  {
   "cell_type": "code",
   "execution_count": 105,
   "outputs": [
    {
     "name": "stdout",
     "output_type": "stream",
     "text": [
      "10000 g\n"
     ]
    }
   ],
   "source": [
    "qt_barricas = int(input('Quantas barricas são?'))\n",
    "\n",
    "barricas = []\n",
    "\n",
    "for i in range(1, qt_barricas+1):\n",
    "    x = int(input(f'Digite o peso LÍQUIDO da barrica {i}'))\n",
    "    barricas.append(x)\n",
    "\n",
    "print(f'{sum(barricas)} g')"
   ],
   "metadata": {
    "collapsed": false,
    "pycharm": {
     "name": "#%%\n"
    }
   }
  },
  {
   "cell_type": "markdown",
   "source": [
    "# 1"
   ],
   "metadata": {
    "collapsed": false,
    "pycharm": {
     "name": "#%% md\n"
    }
   }
  }
 ],
 "metadata": {
  "kernelspec": {
   "display_name": "Python 3",
   "language": "python",
   "name": "python3"
  },
  "language_info": {
   "codemirror_mode": {
    "name": "ipython",
    "version": 2
   },
   "file_extension": ".py",
   "mimetype": "text/x-python",
   "name": "python",
   "nbconvert_exporter": "python",
   "pygments_lexer": "ipython2",
   "version": "2.7.6"
  }
 },
 "nbformat": 4,
 "nbformat_minor": 0
}